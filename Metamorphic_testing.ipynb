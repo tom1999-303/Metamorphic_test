{
  "nbformat": 4,
  "nbformat_minor": 0,
  "metadata": {
    "colab": {
      "name": "Metamorphic_testing.ipynb",
      "provenance": [],
      "authorship_tag": "ABX9TyN+L98LK7nrsrMQ9DEPpYBs",
      "include_colab_link": true
    },
    "kernelspec": {
      "name": "python3",
      "display_name": "Python 3"
    },
    "language_info": {
      "name": "python"
    },
    "accelerator": "GPU"
  },
  "cells": [
    {
      "cell_type": "markdown",
      "metadata": {
        "id": "view-in-github",
        "colab_type": "text"
      },
      "source": [
        "<a href=\"https://colab.research.google.com/github/tom1999-303/Metamorphic_test/blob/main/Metamorphic_testing.ipynb\" target=\"_parent\"><img src=\"https://colab.research.google.com/assets/colab-badge.svg\" alt=\"Open In Colab\"/></a>"
      ]
    },
    {
      "cell_type": "markdown",
      "source": [
        "MNISTのデータセットで学習させたCNNに対してMetamorphic testingを試みる"
      ],
      "metadata": {
        "id": "AEvn4DbZfGYI"
      }
    },
    {
      "cell_type": "code",
      "execution_count": 1,
      "metadata": {
        "id": "E_xljC4_ed53"
      },
      "outputs": [],
      "source": [
        "import tensorflow as tf\n",
        "import numpy as np\n",
        "import matplotlib.pyplot as plt\n",
        "\n",
        "\n",
        "from tensorflow.keras import datasets, layers, models"
      ]
    },
    {
      "cell_type": "code",
      "source": [
        "(train_images, train_labels), (test_images, test_labels) = datasets.mnist.load_data()"
      ],
      "metadata": {
        "colab": {
          "base_uri": "https://localhost:8080/"
        },
        "id": "v6UIcSzGheAP",
        "outputId": "fd61b028-8683-40ef-d08e-77e81f6440d7"
      },
      "execution_count": 2,
      "outputs": [
        {
          "output_type": "stream",
          "name": "stdout",
          "text": [
            "Downloading data from https://storage.googleapis.com/tensorflow/tf-keras-datasets/mnist.npz\n",
            "11493376/11490434 [==============================] - 0s 0us/step\n",
            "11501568/11490434 [==============================] - 0s 0us/step\n"
          ]
        }
      ]
    },
    {
      "cell_type": "code",
      "source": [
        "train_images=train_images.reshape((60000, 28, 28, 1))\n",
        "test_images=test_images.reshape(((10000, 28, 28, 1)))\n",
        "train_images, test_images = train_images / 255.0, test_images / 255.0"
      ],
      "metadata": {
        "id": "Ta-hEPAghmvY"
      },
      "execution_count": 3,
      "outputs": []
    },
    {
      "cell_type": "code",
      "source": [
        "model= models.Sequential([\n",
        "        layers.Conv2D(32,(3,3),activation=\"relu\",input_shape=(28, 28, 1)),\n",
        "        layers.MaxPooling2D((2,2)),\n",
        "        layers.Conv2D(16,(3,3),activation=\"relu\",input_shape=(13,13, 32)),\n",
        "        layers.MaxPooling2D((2,2)),\n",
        "        layers.Flatten(),\n",
        "        layers.Dense(10, activation='softmax')\n",
        "        ])"
      ],
      "metadata": {
        "id": "AbIAMfGHjq8L"
      },
      "execution_count": 9,
      "outputs": []
    },
    {
      "cell_type": "code",
      "source": [
        "model.summary()"
      ],
      "metadata": {
        "colab": {
          "base_uri": "https://localhost:8080/"
        },
        "id": "gGwEwA8omFmF",
        "outputId": "b501aa4d-d53b-4a6b-b1ce-f96ffdeb59cf"
      },
      "execution_count": 10,
      "outputs": [
        {
          "output_type": "stream",
          "name": "stdout",
          "text": [
            "Model: \"sequential_2\"\n",
            "_________________________________________________________________\n",
            " Layer (type)                Output Shape              Param #   \n",
            "=================================================================\n",
            " conv2d_3 (Conv2D)           (None, 26, 26, 32)        320       \n",
            "                                                                 \n",
            " max_pooling2d_3 (MaxPooling  (None, 13, 13, 32)       0         \n",
            " 2D)                                                             \n",
            "                                                                 \n",
            " conv2d_4 (Conv2D)           (None, 11, 11, 16)        4624      \n",
            "                                                                 \n",
            " max_pooling2d_4 (MaxPooling  (None, 5, 5, 16)         0         \n",
            " 2D)                                                             \n",
            "                                                                 \n",
            " flatten_2 (Flatten)         (None, 400)               0         \n",
            "                                                                 \n",
            " dense_2 (Dense)             (None, 10)                4010      \n",
            "                                                                 \n",
            "=================================================================\n",
            "Total params: 8,954\n",
            "Trainable params: 8,954\n",
            "Non-trainable params: 0\n",
            "_________________________________________________________________\n"
          ]
        }
      ]
    },
    {
      "cell_type": "code",
      "source": [
        "model.compile(optimizer='adam',\n",
        "              loss='sparse_categorical_crossentropy',\n",
        "              metrics=['accuracy']\n",
        "              )"
      ],
      "metadata": {
        "id": "ngQYh_2BmeNe"
      },
      "execution_count": 11,
      "outputs": []
    },
    {
      "cell_type": "code",
      "source": [
        "model.fit(train_images,train_labels,epochs=5)"
      ],
      "metadata": {
        "colab": {
          "base_uri": "https://localhost:8080/"
        },
        "id": "12h7JJahnfa1",
        "outputId": "aeff53a2-1fa8-4c90-f9cf-e97eb0201a30"
      },
      "execution_count": 12,
      "outputs": [
        {
          "output_type": "stream",
          "name": "stdout",
          "text": [
            "Epoch 1/5\n",
            "1875/1875 [==============================] - 17s 5ms/step - loss: 0.2217 - accuracy: 0.9340\n",
            "Epoch 2/5\n",
            "1875/1875 [==============================] - 9s 5ms/step - loss: 0.0800 - accuracy: 0.9751\n",
            "Epoch 3/5\n",
            "1875/1875 [==============================] - 9s 5ms/step - loss: 0.0606 - accuracy: 0.9814\n",
            "Epoch 4/5\n",
            "1875/1875 [==============================] - 9s 5ms/step - loss: 0.0490 - accuracy: 0.9848\n",
            "Epoch 5/5\n",
            "1875/1875 [==============================] - 9s 5ms/step - loss: 0.0420 - accuracy: 0.9869\n"
          ]
        },
        {
          "output_type": "execute_result",
          "data": {
            "text/plain": [
              "<keras.callbacks.History at 0x7f630069a490>"
            ]
          },
          "metadata": {},
          "execution_count": 12
        }
      ]
    },
    {
      "cell_type": "code",
      "source": [
        "model.evaluate(test_images,test_labels,verbose=2)"
      ],
      "metadata": {
        "colab": {
          "base_uri": "https://localhost:8080/"
        },
        "id": "ThD7az3ip4w8",
        "outputId": "361341ed-342d-4e42-9d5b-9e62b51e9134"
      },
      "execution_count": 13,
      "outputs": [
        {
          "output_type": "stream",
          "name": "stdout",
          "text": [
            "313/313 - 1s - loss: 0.0399 - accuracy: 0.9872 - 1s/epoch - 4ms/step\n"
          ]
        },
        {
          "output_type": "execute_result",
          "data": {
            "text/plain": [
              "[0.039884187281131744, 0.9872000217437744]"
            ]
          },
          "metadata": {},
          "execution_count": 13
        }
      ]
    },
    {
      "cell_type": "markdown",
      "source": [
        "Metamorophic testで画像データに定数と加えて予測値が不変であることを確かめる．"
      ],
      "metadata": {
        "id": "EwAOxsDDtriq"
      }
    },
    {
      "cell_type": "code",
      "source": [
        "metatest_images= test_images\n",
        "metatest_labels=test_labels"
      ],
      "metadata": {
        "id": "mlXuRFvDqzpN"
      },
      "execution_count": 14,
      "outputs": []
    },
    {
      "cell_type": "code",
      "source": [
        "def shifting_data(image,constant):\n",
        "    image =np.clip(image+constant,0,1)\n",
        "    return image"
      ],
      "metadata": {
        "id": "ZeRiVaS7rNCa"
      },
      "execution_count": 15,
      "outputs": []
    },
    {
      "cell_type": "code",
      "source": [
        "for t in  range(0, 10, 1):\n",
        "    shifting_metatest_images = np.array([shifting_data(image,t/10) for image in test_images])\n",
        "    predictions = model.predict(test_images)\n",
        "    meta_predictions = model.predict(shifting_metatest_images)\n",
        "    label_predictions = np.argmax(predictions,axis=1)\n",
        "    label_meta_predictions = np.argmax(meta_predictions,axis=1)\n",
        "    print(t/10,(len([i for i in range(10000) if label_predictions[i]==label_meta_predictions[i]])/10000)*100)"
      ],
      "metadata": {
        "colab": {
          "base_uri": "https://localhost:8080/"
        },
        "id": "TJl-q_BEhd6y",
        "outputId": "5a3f2def-1359-4052-a59f-cb04e0919e70"
      },
      "execution_count": 17,
      "outputs": [
        {
          "output_type": "stream",
          "name": "stdout",
          "text": [
            "0.0 100.0\n",
            "0.1 99.25\n",
            "0.2 98.14\n",
            "0.3 96.25\n",
            "0.4 92.56\n",
            "0.5 85.11\n",
            "0.6 71.61999999999999\n",
            "0.7 57.26\n",
            "0.8 38.93\n",
            "0.9 13.780000000000001\n"
          ]
        }
      ]
    }
  ]
}